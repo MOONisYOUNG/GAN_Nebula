{
 "cells": [
  {
   "cell_type": "code",
   "execution_count": 1,
   "metadata": {
    "executionInfo": {
     "elapsed": 3,
     "status": "ok",
     "timestamp": 1688892994010,
     "user": {
      "displayName": "송문영",
      "userId": "11046723801570779192"
     },
     "user_tz": -540
    },
    "id": "-ZWGhESfNXSk"
   },
   "outputs": [],
   "source": [
    "import os\n",
    "os.chdir(\"/content/drive/MyDrive/Colab Notebooks/GAN_Nebula\")"
   ]
  },
  {
   "cell_type": "code",
   "execution_count": 3,
   "metadata": {
    "colab": {
     "base_uri": "https://localhost:8080/",
     "height": 424
    },
    "executionInfo": {
     "elapsed": 10429,
     "status": "ok",
     "timestamp": 1688893004437,
     "user": {
      "displayName": "송문영",
      "userId": "11046723801570779192"
     },
     "user_tz": -540
    },
    "id": "kH1Ij20UEHs8",
    "outputId": "1289b3a1-faf1-47e6-cc2e-295e9993853e"
   },
   "outputs": [
    {
     "name": "stdout",
     "output_type": "stream",
     "text": [
      "Found 1623 files belonging to 1 classes.\n"
     ]
    },
    {
     "data": {
      "image/png": "[encoded data removed]",
      "text/plain": [
       "<Figure size 640x480 with 1 Axes>"
      ]
     },
     "metadata": {},
     "output_type": "display_data"
    }
   ],
   "source": [
    "import os\n",
    "from zipfile import ZipFile\n",
    "\n",
    "from tensorflow import keras\n",
    "import matplotlib.pyplot as plt\n",
    "import gdown\n",
    "\n",
    "def get_nebula_data():\n",
    "    dataset = keras.preprocessing.image_dataset_from_directory(\n",
    "        \"img_448_size\", label_mode=None, image_size=(64, 64), batch_size=32\n",
    "    )\n",
    "    dataset = dataset.map(lambda x: x / 255.0)\n",
    "    return dataset\n",
    "\n",
    "def show_one_in_list(dataset):\n",
    "    for x in dataset:\n",
    "        plt.axis(\"off\")\n",
    "        plt.imshow((x.numpy() * 255).astype(\"int32\")[0])\n",
    "        plt.show()\n",
    "        break\n",
    "\n",
    "if __name__ == \"__main__\":\n",
    "    dataset = get_nebula_data()\n",
    "    show_one_in_list(dataset)"
   ]
  },
  {
   "cell_type": "code",
   "execution_count": 4,
   "metadata": {
    "executionInfo": {
     "elapsed": 5,
     "status": "ok",
     "timestamp": 1688893004437,
     "user": {
      "displayName": "송문영",
      "userId": "11046723801570779192"
     },
     "user_tz": -540
    },
    "id": "IZ43GommEI6i"
   },
   "outputs": [],
   "source": [
    "import tensorflow as tf\n",
    "from tensorflow import keras\n",
    "from tensorflow.keras import layers"
   ]
  },
  {
   "cell_type": "code",
   "execution_count": 5,
   "metadata": {
    "executionInfo": {
     "elapsed": 6,
     "status": "ok",
     "timestamp": 1688893004438,
     "user": {
      "displayName": "송문영",
      "userId": "11046723801570779192"
     },
     "user_tz": -540
    },
    "id": "XGd9Pb-ZEK9i"
   },
   "outputs": [],
   "source": [
    "def make_discriminator():\n",
    "    discriminator = keras.Sequential(\n",
    "    [\n",
    "        keras.Input(shape=(64, 64, 3)),\n",
    "        layers.Conv2D(64, kernel_size=4, strides=2, padding=\"same\"),\n",
    "        layers.LeakyReLU(alpha=0.2),\n",
    "        layers.Conv2D(128, kernel_size=4, strides=2, padding=\"same\"),\n",
    "        layers.LeakyReLU(alpha=0.2),\n",
    "        layers.Conv2D(128, kernel_size=4, strides=2, padding=\"same\"),\n",
    "        layers.LeakyReLU(alpha=0.2),\n",
    "        layers.Flatten(),\n",
    "        layers.Dropout(0.2),\n",
    "        layers.Dense(1, activation=\"sigmoid\"),\n",
    "    ],\n",
    "    name=\"discriminator\",\n",
    "    )\n",
    "    discriminator.summary()\n",
    "    return discriminator"
   ]
  },
  {
   "cell_type": "code",
   "execution_count": 6,
   "metadata": {
    "executionInfo": {
     "elapsed": 5,
     "status": "ok",
     "timestamp": 1688893004438,
     "user": {
      "displayName": "송문영",
      "userId": "11046723801570779192"
     },
     "user_tz": -540
    },
    "id": "1nJWBvT9EMgr"
   },
   "outputs": [],
   "source": [
    "def make_generator():\n",
    "    latent_dim = 128\n",
    "\n",
    "    generator = keras.Sequential(\n",
    "        [\n",
    "            keras.Input(shape=(latent_dim,)),\n",
    "            layers.Dense(8 * 8 * 128),\n",
    "            layers.Reshape((8, 8, 128)),\n",
    "            layers.Conv2DTranspose(128, kernel_size=4, strides=2, padding=\"same\"),\n",
    "            layers.LeakyReLU(alpha=0.2),\n",
    "            layers.Conv2DTranspose(256, kernel_size=4, strides=2, padding=\"same\"),\n",
    "            layers.LeakyReLU(alpha=0.2),\n",
    "            layers.Conv2DTranspose(512, kernel_size=4, strides=2, padding=\"same\"),\n",
    "            layers.LeakyReLU(alpha=0.2),\n",
    "            layers.Conv2D(3, kernel_size=5, padding=\"same\", activation=\"sigmoid\"),\n",
    "        ],\n",
    "        name=\"generator\",\n",
    "    )\n",
    "    generator.summary()\n",
    "    return generator"
   ]
  },
  {
   "cell_type": "code",
   "execution_count": 7,
   "metadata": {
    "executionInfo": {
     "elapsed": 5,
     "status": "ok",
     "timestamp": 1688893004438,
     "user": {
      "displayName": "송문영",
      "userId": "11046723801570779192"
     },
     "user_tz": -540
    },
    "id": "uPVkCUWsEN37"
   },
   "outputs": [],
   "source": [
    "class GAN(keras.Model):\n",
    "    def __init__(self, discriminator, generator, latent_dim):\n",
    "        super(GAN, self).__init__()\n",
    "        self.discriminator = discriminator\n",
    "        self.generator = generator\n",
    "        self.latent_dim = latent_dim\n",
    "\n",
    "    def compile(self, d_optimizer, g_optimizer, loss_fn):\n",
    "        super(GAN, self).compile()\n",
    "        self.d_optimizer = d_optimizer\n",
    "        self.g_optimizer = g_optimizer\n",
    "        self.loss_fn = loss_fn\n",
    "        self.d_loss_metric = keras.metrics.Mean(name=\"d_loss\")\n",
    "        self.g_loss_metric = keras.metrics.Mean(name=\"g_loss\")\n",
    "\n",
    "    @property\n",
    "    def metrics(self):\n",
    "        return [self.d_loss_metric, self.g_loss_metric]\n",
    "\n",
    "    def train_step(self, real_images):\n",
    "        # Sample random points in the latent space\n",
    "        batch_size = tf.shape(real_images)[0]\n",
    "        random_latent_vectors = tf.random.normal(shape=(batch_size, self.latent_dim))\n",
    "\n",
    "        # Decode them to fake images\n",
    "        generated_images = self.generator(random_latent_vectors)\n",
    "\n",
    "        # Combine them with real images\n",
    "        combined_images = tf.concat([generated_images, real_images], axis=0)\n",
    "\n",
    "        # Assemble labels discriminating real from fake images\n",
    "        labels = tf.concat(\n",
    "            [tf.ones((batch_size, 1)), tf.zeros((batch_size, 1))], axis=0\n",
    "        )\n",
    "        # Add random noise to the labels - important trick!\n",
    "        labels += 0.05 * tf.random.uniform(tf.shape(labels))\n",
    "\n",
    "        # Train the discriminator\n",
    "        with tf.GradientTape() as tape:\n",
    "            predictions = self.discriminator(combined_images)\n",
    "            d_loss = self.loss_fn(labels, predictions)\n",
    "        grads = tape.gradient(d_loss, self.discriminator.trainable_weights)\n",
    "        self.d_optimizer.apply_gradients(\n",
    "            zip(grads, self.discriminator.trainable_weights)\n",
    "        )\n",
    "\n",
    "        # Sample random points in the latent space\n",
    "        random_latent_vectors = tf.random.normal(shape=(batch_size, self.latent_dim))\n",
    "\n",
    "        # Assemble labels that say \"all real images\"\n",
    "        misleading_labels = tf.zeros((batch_size, 1))\n",
    "\n",
    "        # Train the generator (note that we should *not* update the weights\n",
    "        # of the discriminator)!\n",
    "        with tf.GradientTape() as tape:\n",
    "            predictions = self.discriminator(self.generator(random_latent_vectors))\n",
    "            g_loss = self.loss_fn(misleading_labels, predictions)\n",
    "        grads = tape.gradient(g_loss, self.generator.trainable_weights)\n",
    "        self.g_optimizer.apply_gradients(zip(grads, self.generator.trainable_weights))\n",
    "\n",
    "        # Update metrics\n",
    "        self.d_loss_metric.update_state(d_loss)\n",
    "        self.g_loss_metric.update_state(g_loss)\n",
    "        return {\n",
    "            \"d_loss\": self.d_loss_metric.result(),\n",
    "            \"g_loss\": self.g_loss_metric.result(),\n",
    "        }"
   ]
  },
  {
   "cell_type": "code",
   "execution_count": 8,
   "metadata": {
    "executionInfo": {
     "elapsed": 6,
     "status": "ok",
     "timestamp": 1688893004439,
     "user": {
      "displayName": "송문영",
      "userId": "11046723801570779192"
     },
     "user_tz": -540
    },
    "id": "ORx6nC0AEbk6"
   },
   "outputs": [],
   "source": [
    "class GANMonitor(keras.callbacks.Callback):\n",
    "    def __init__(self, start_epoch=0, latent_dim=128):\n",
    "        self.start_epoch = start_epoch\n",
    "        self.num_img = 25\n",
    "        self.latent_dim = latent_dim\n",
    "\n",
    "    def on_epoch_end(self, epoch, logs=None):\n",
    "        cur_epoch = epoch + self.start_epoch\n",
    "        random_latent_vectors = tf.random.normal(shape=(self.num_img, self.latent_dim))\n",
    "        generated_images = self.model.generator(random_latent_vectors)\n",
    "        generated_images *= 255\n",
    "        generated_images.numpy()\n",
    "\n",
    "        fig, axs = plt.subplots(5, 5)\n",
    "        count = 0\n",
    "        for j in range(5):\n",
    "          for k in range(5):\n",
    "            axs[j, k].imshow(generated_images[count])\n",
    "            axs[j, k].axis(\"off\")\n",
    "            count += 1\n",
    "        fig.savefig(\"./tf_results/gan_nebula%03d.png\" % (cur_epoch))\n",
    "\n",
    "        self.model.generator.save('./models/generator/%d' % (cur_epoch))\n",
    "        self.model.discriminator.save('./models/discriminator/%d' % (cur_epoch))"
   ]
  },
  {
   "cell_type": "code",
   "execution_count": 9,
   "metadata": {
    "executionInfo": {
     "elapsed": 5,
     "status": "ok",
     "timestamp": 1688893004439,
     "user": {
      "displayName": "송문영",
      "userId": "11046723801570779192"
     },
     "user_tz": -540
    },
    "id": "zB7l360SEjIH"
   },
   "outputs": [],
   "source": [
    "def load_model(path, role):\n",
    "    model_num = -1\n",
    "    list_path = path + '/' + role\n",
    "    for num in os.listdir(list_path):\n",
    "        if int(num) > model_num:\n",
    "            model_num = int(num)\n",
    "\n",
    "    if model_num == -1:\n",
    "        if role == \"discriminator\":\n",
    "            return make_discriminator()\n",
    "        elif role == \"generator\":\n",
    "            return make_generator()\n",
    "        else:\n",
    "            raise \"invalid argument error\"\n",
    "    else:\n",
    "        model_path = list_path + '/' + str(model_num)\n",
    "        return keras.models.load_model(model_path)"
   ]
  },
  {
   "cell_type": "code",
   "execution_count": 10,
   "metadata": {
    "colab": {
     "base_uri": "https://localhost:8080/",
     "height": 1000,
     "output_embedded_package_id": "1uQC1PvzuxwcsPAWiEcMzHJWuCPDlRKUb"
    },
    "executionInfo": {
     "elapsed": 1939412,
     "status": "ok",
     "timestamp": 1688894943846,
     "user": {
      "displayName": "송문영",
      "userId": "11046723801570779192"
     },
     "user_tz": -540
    },
    "id": "EyWP62LREv5e",
    "outputId": "e99ce8e2-4067-4d96-e7fb-f6676af57867"
   },
   "outputs": [
    {
     "data": {
      "text/plain": [
       "Output hidden; open in https://colab.research.google.com to view."
      ]
     },
     "metadata": {},
     "output_type": "display_data"
    }
   ],
   "source": [
    "if __name__ == \"__main__\":\n",
    "    dataset = get_nebula_data()\n",
    "\n",
    "    folder_li = [\"./models/discriminator\", \"./models/generator\", \"./tf_results\"]\n",
    "    for folder in folder_li:\n",
    "      if not os.path.isdir(folder):\n",
    "        os.makedirs(folder)\n",
    "\n",
    "    discriminator = load_model('./models', \"discriminator\")\n",
    "    generator = load_model('./models', \"generator\")\n",
    "\n",
    "    latent_dim = 128\n",
    "    start_epoch = 0\n",
    "    epochs = 100  # In practice, use ~100 epochs\n",
    "\n",
    "    gan = GAN(discriminator=discriminator, generator=generator, latent_dim=latent_dim)\n",
    "    gan.compile(\n",
    "        d_optimizer=keras.optimizers.Adam(learning_rate=0.0001),\n",
    "        g_optimizer=keras.optimizers.Adam(learning_rate=0.0001),\n",
    "        loss_fn=keras.losses.BinaryCrossentropy(),\n",
    "    )\n",
    "\n",
    "    gan.fit(\n",
    "        dataset, epochs=epochs, callbacks=[GANMonitor(start_epoch=start_epoch, latent_dim=latent_dim)]\n",
    "    )"
   ]
  }
 ],
 "metadata": {
  "accelerator": "GPU",
  "colab": {
   "authorship_tag": "ABX9TyM8ke8oGhD2HYvHmArBCf3w",
   "gpuType": "T4",
   "mount_file_id": "1nwFVqzwLPWYRyLG4nt25D4LVRobMmb1l",
   "provenance": []
  },
  "kernelspec": {
   "display_name": "Python 3 (ipykernel)",
   "language": "python",
   "name": "python3"
  },
  "language_info": {
   "codemirror_mode": {
    "name": "ipython",
    "version": 3
   },
   "file_extension": ".py",
   "mimetype": "text/x-python",
   "name": "python",
   "nbconvert_exporter": "python",
   "pygments_lexer": "ipython3",
   "version": "3.9.7"
  }
 },
 "nbformat": 4,
 "nbformat_minor": 1
}
