{
 "cells": [
  {
   "cell_type": "code",
   "execution_count": 1,
   "id": "1b9d4bfd",
   "metadata": {},
   "outputs": [],
   "source": [
    "import cv2\n",
    "import numpy as np\n",
    "import matplotlib.pyplot as plt\n",
    "import os\n",
    "from tqdm.notebook import tqdm_notebook"
   ]
  },
  {
   "cell_type": "code",
   "execution_count": 2,
   "id": "11ec837e",
   "metadata": {},
   "outputs": [
    {
     "name": "stdout",
     "output_type": "stream",
     "text": [
      "👉 원래 이미지 개수 : 1657개\n"
     ]
    }
   ],
   "source": [
    "print(f\"👉 원래 이미지 개수 : {len(os.listdir('./Origin_Img/'))}개\")"
   ]
  },
  {
   "cell_type": "code",
   "execution_count": 3,
   "id": "f6cc15c5",
   "metadata": {},
   "outputs": [
    {
     "name": "stdout",
     "output_type": "stream",
     "text": [
      "👉 선별 이미지 개수 : 1632개\n"
     ]
    }
   ],
   "source": [
    "# 온전한 성운 이미지만 직접 선별함\n",
    "print(f\"👉 선별 이미지 개수 : {len(os.listdir('./Img_Selection/'))}개\")"
   ]
  },
  {
   "cell_type": "code",
   "execution_count": 4,
   "id": "45d8bf72",
   "metadata": {
    "scrolled": true
   },
   "outputs": [
    {
     "name": "stdout",
     "output_type": "stream",
     "text": [
      "Nebula0055.jpg 파일은 shape 정보를 읽어올 수 없습니다...\n",
      "Nebula0319.jpg 파일은 shape 정보를 읽어올 수 없습니다...\n",
      "Nebula0461.jpg 파일은 shape 정보를 읽어올 수 없습니다...\n",
      "Nebula0660.jpg 파일은 shape 정보를 읽어올 수 없습니다...\n",
      "Nebula0890.jpg 파일은 shape 정보를 읽어올 수 없습니다...\n",
      "Nebula1009.jpg 파일은 shape 정보를 읽어올 수 없습니다...\n",
      "Nebula1446.jpg 파일은 shape 정보를 읽어올 수 없습니다...\n",
      "Nebula1512.jpg 파일은 shape 정보를 읽어올 수 없습니다...\n",
      "Nebula1648.jpg 파일은 shape 정보를 읽어올 수 없습니다...\n"
     ]
    }
   ],
   "source": [
    "height_li = []\n",
    "width_li = []\n",
    "\n",
    "not_read_fn_li = []\n",
    "\n",
    "for fn in os.listdir('./Img_Selection/'):\n",
    "    try:\n",
    "        img = cv2.imread(f\"./Img_Selection/{fn}\")\n",
    "\n",
    "        h, w, _ = img.shape\n",
    "\n",
    "        height_li.append(h)\n",
    "        width_li.append(w)\n",
    "        \n",
    "    except AttributeError:\n",
    "        not_read_fn_li.append(fn)\n",
    "        print(f\"{fn} 파일은 shape 정보를 읽어올 수 없습니다...\")"
   ]
  },
  {
   "cell_type": "code",
   "execution_count": 5,
   "id": "ae35d157",
   "metadata": {},
   "outputs": [
    {
     "name": "stdout",
     "output_type": "stream",
     "text": [
      "👉 shape 정보 확인한 이미지 개수 : 1623개\n"
     ]
    }
   ],
   "source": [
    "select_len = len(os.listdir('./Img_Selection/'))\n",
    "print(f\"👉 shape 정보 확인한 이미지 개수 : {select_len - len(not_read_fn_li)}개\")"
   ]
  },
  {
   "cell_type": "markdown",
   "id": "4e7d3ee4",
   "metadata": {},
   "source": [
    "### 📌 이미지 NxN 사이즈로 조정하기"
   ]
  },
  {
   "cell_type": "code",
   "execution_count": 22,
   "id": "d731921d",
   "metadata": {},
   "outputs": [
    {
     "data": {
      "application/vnd.jupyter.widget-view+json": {
       "model_id": "a9d18a6928b3446b8bc4ecd4e69a2fdb",
       "version_major": 2,
       "version_minor": 0
      },
      "text/plain": [
       "  0%|          | 0/1632 [00:00<?, ?it/s]"
      ]
     },
     "metadata": {},
     "output_type": "display_data"
    }
   ],
   "source": [
    "new_dir = \"./img_448_size\"\n",
    "if not os.path.isdir(new_dir):\n",
    "    os.mkdir(new_dir)\n",
    "\n",
    "for fn in tqdm_notebook(os.listdir('./Img_Selection/')):\n",
    "    if fn in not_read_fn_li:\n",
    "        continue\n",
    "    \n",
    "    img = cv2.imread(f\"./Img_Selection/{fn}\")\n",
    "    resize_img = cv2.resize(img, dsize=(448, 448), interpolation=cv2.INTER_NEAREST)\n",
    "\n",
    "    cv2.imwrite(f\"{new_dir}/{fn}\", resize_img)"
   ]
  },
  {
   "cell_type": "code",
   "execution_count": 6,
   "id": "4cf52a29",
   "metadata": {},
   "outputs": [
    {
     "data": {
      "application/vnd.jupyter.widget-view+json": {
       "model_id": "e53606f6d9f24d8ea08d56fcf85381fe",
       "version_major": 2,
       "version_minor": 0
      },
      "text/plain": [
       "  0%|          | 0/1632 [00:00<?, ?it/s]"
      ]
     },
     "metadata": {},
     "output_type": "display_data"
    }
   ],
   "source": [
    "new_dir = \"./img_64_size\"\n",
    "if not os.path.isdir(new_dir):\n",
    "    os.mkdir(new_dir)\n",
    "\n",
    "for fn in tqdm_notebook(os.listdir('./Img_Selection/')):\n",
    "    if fn in not_read_fn_li:\n",
    "        continue\n",
    "    \n",
    "    img = cv2.imread(f\"./Img_Selection/{fn}\")\n",
    "    resize_img = cv2.resize(img, dsize=(64, 64), interpolation=cv2.INTER_NEAREST)\n",
    "\n",
    "    cv2.imwrite(f\"{new_dir}/{fn}\", resize_img)"
   ]
  }
 ],
 "metadata": {
  "kernelspec": {
   "display_name": "Python 3 (ipykernel)",
   "language": "python",
   "name": "python3"
  },
  "language_info": {
   "codemirror_mode": {
    "name": "ipython",
    "version": 3
   },
   "file_extension": ".py",
   "mimetype": "text/x-python",
   "name": "python",
   "nbconvert_exporter": "python",
   "pygments_lexer": "ipython3",
   "version": "3.9.7"
  }
 },
 "nbformat": 4,
 "nbformat_minor": 5
}
