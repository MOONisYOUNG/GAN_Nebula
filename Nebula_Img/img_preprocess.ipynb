{
 "cells": [
  {
   "cell_type": "code",
   "execution_count": null,
   "id": "e461279f",
   "metadata": {},
   "outputs": [],
   "source": [
    "# 1-1. 이미지 width를 리스트에 저장한 후, 범주형 데이터로 가공하기 \n",
    "# 1-2. width 범주 데이터를 막대 그래프로 시각화하기\n",
    "# 2-1. 이미지 height를 리스트에 저장한 후, 범주형 데이터로 가공하기 \n",
    "# 2-2. height 범주 데이터를 막대 그래프로 시각화하기\n",
    "# 2-1. 이미지 width의 최빈값, 평균값 구하기\n",
    "# 2-2. 이미지 height의 최빈값, 평균값 구하기\n",
    "\n",
    "\n",
    "# 번외 : N x N 사이즈로 일괄 변형하기"
   ]
  },
  {
   "cell_type": "code",
   "execution_count": 10,
   "id": "1b9d4bfd",
   "metadata": {},
   "outputs": [],
   "source": [
    "import cv2\n",
    "import numpy as np\n",
    "import matplotlib.pyplot as plt\n",
    "import os\n",
    "from tqdm.notebook import tqdm_notebook"
   ]
  },
  {
   "cell_type": "code",
   "execution_count": 5,
   "id": "11ec837e",
   "metadata": {},
   "outputs": [
    {
     "name": "stdout",
     "output_type": "stream",
     "text": [
      "👉 원래 이미지 개수 : 1657개\n"
     ]
    }
   ],
   "source": [
    "print(f\"👉 원래 이미지 개수 : {len(os.listdir('./Origin_Img/'))}개\")"
   ]
  },
  {
   "cell_type": "code",
   "execution_count": 6,
   "id": "f6cc15c5",
   "metadata": {},
   "outputs": [
    {
     "name": "stdout",
     "output_type": "stream",
     "text": [
      "👉 선별 이미지 개수 : 1632개\n"
     ]
    }
   ],
   "source": [
    "# 온전한 성운 이미지만 직접 선별함\n",
    "print(f\"👉 선별 이미지 개수 : {len(os.listdir('./Img_Selection/'))}개\")"
   ]
  },
  {
   "cell_type": "code",
   "execution_count": 7,
   "id": "224cc22d",
   "metadata": {
    "scrolled": true
   },
   "outputs": [
    {
     "name": "stdout",
     "output_type": "stream",
     "text": [
      "328\n"
     ]
    }
   ],
   "source": [
    "img = cv2.imread('./Img_Selection/Nebula0001.jpg')\n",
    "h, w, c = img.shape\n",
    "print(h)"
   ]
  },
  {
   "cell_type": "code",
   "execution_count": 16,
   "id": "45d8bf72",
   "metadata": {
    "scrolled": true
   },
   "outputs": [
    {
     "name": "stdout",
     "output_type": "stream",
     "text": [
      "Nebula0055.jpg 파일은 shape 정보를 읽어올 수 없습니다...\n",
      "Nebula0319.jpg 파일은 shape 정보를 읽어올 수 없습니다...\n",
      "Nebula0461.jpg 파일은 shape 정보를 읽어올 수 없습니다...\n",
      "Nebula0660.jpg 파일은 shape 정보를 읽어올 수 없습니다...\n",
      "Nebula0890.jpg 파일은 shape 정보를 읽어올 수 없습니다...\n",
      "Nebula1009.jpg 파일은 shape 정보를 읽어올 수 없습니다...\n",
      "Nebula1446.jpg 파일은 shape 정보를 읽어올 수 없습니다...\n",
      "Nebula1512.jpg 파일은 shape 정보를 읽어올 수 없습니다...\n",
      "Nebula1648.jpg 파일은 shape 정보를 읽어올 수 없습니다...\n"
     ]
    }
   ],
   "source": [
    "height_li = []\n",
    "width_li = []\n",
    "\n",
    "not_read_fn_li = []\n",
    "\n",
    "for fn in os.listdir('./Img_Selection/'):\n",
    "    try:\n",
    "        img = cv2.imread(f\"./Img_Selection/{fn}\")\n",
    "\n",
    "        h, w, _ = img.shape\n",
    "\n",
    "        height_li.append(h)\n",
    "        width_li.append(w)\n",
    "        \n",
    "    except AttributeError:\n",
    "        not_read_fn_li.append(fn)\n",
    "        print(f\"{fn} 파일은 shape 정보를 읽어올 수 없습니다...\")"
   ]
  },
  {
   "cell_type": "code",
   "execution_count": 9,
   "id": "ae35d157",
   "metadata": {},
   "outputs": [
    {
     "name": "stdout",
     "output_type": "stream",
     "text": [
      "👉 shape 정보 확인한 이미지 개수 : 1623개\n"
     ]
    }
   ],
   "source": [
    "select_len = len(os.listdir('./Img_Selection/'))\n",
    "print(f\"👉 shape 정보 확인한 이미지 개수 : {select_len - len(not_read_fn_li)}개\")"
   ]
  },
  {
   "cell_type": "code",
   "execution_count": 80,
   "id": "9948d5ee",
   "metadata": {},
   "outputs": [],
   "source": [
    "def bar_chart_with_frequencies(data, title, x_label, y_label):\n",
    "    # 데이터 분석: 빈도수 계산\n",
    "    frequencies = {}\n",
    "    for item in data:\n",
    "        frequencies[item] = frequencies.get(item, 0) + 1\n",
    "\n",
    "    # 빈도수를 기준으로 항목과 빈도수를 분리\n",
    "    items = list(frequencies.keys())\n",
    "    counts = list(frequencies.values())\n",
    "    \n",
    "    # 막대그래프 생성\n",
    "    plt.bar(items, counts)\n",
    "\n",
    "    # 그래프 제목, x축 라벨, y축 라벨 설정\n",
    "    plt.title(title)\n",
    "    plt.xlabel(x_label)\n",
    "    plt.ylabel(y_label)\n",
    "    \n",
    "    print(items)\n",
    "    \n",
    "    plt.ylim([0, 50])\n",
    "\n",
    "    # 그래프 보여주기\n",
    "    plt.show()"
   ]
  },
  {
   "cell_type": "code",
   "execution_count": 81,
   "id": "5b1333c9",
   "metadata": {
    "scrolled": false
   },
   "outputs": [
    {
     "name": "stdout",
     "output_type": "stream",
     "text": [
      "[328, 600, 599, 484, 545, 547, 355, 567, 536, 458, 387, 390, 474, 597, 532, 495, 549, 348, 450, 527, 465, 541, 592, 501, 533, 528, 273, 272, 598, 535, 278, 560, 188, 551, 517, 323, 494, 526, 229, 584, 510, 576, 228, 583, 347, 316, 350, 522, 504, 446, 512, 349, 483, 487, 530, 385, 392, 590, 513, 540, 537, 544, 506, 521, 531, 318, 447, 574, 163, 564, 343, 578, 475, 571, 397, 125, 417, 414, 175, 365, 224, 225, 440, 565, 520, 486, 500, 477, 345, 399, 488, 556, 325, 281, 260, 478, 507, 422, 306, 303, 244, 441, 435, 514, 491, 321, 369, 561, 582, 242, 362, 538, 508, 466, 469, 460, 449, 490, 548, 529, 558, 518, 402, 398, 480, 401, 503, 451, 439, 411, 485, 543, 400, 591, 534, 492, 542, 594, 453, 525, 593, 395, 568, 310, 309, 489, 476, 497, 493, 363, 524, 563, 425, 559, 462, 445, 519, 552, 473, 432, 300, 437, 589, 128, 337, 523, 315, 572, 438, 301, 577, 580, 461, 383, 516, 280, 168, 569, 472, 202, 496, 573, 429, 274, 324, 403, 409, 295, 296, 427, 277, 288, 287, 550, 557, 389, 431, 586, 294, 270, 579, 575, 201, 313, 566, 481, 305, 122, 499, 381, 292, 256, 253, 436, 443, 585, 467, 267, 142, 251, 351, 459, 509, 358, 468, 479, 511, 553, 419, 299, 314, 570, 554, 367, 346, 413, 430, 341, 283, 444, 470, 595, 581, 428, 596, 426, 412, 505, 302, 546, 394, 366, 195, 298, 463, 434, 160, 338, 371, 386]\n"
     ]
    },
    {
     "data": {
      "image/png": "[encoded data removed]",
      "text/plain": [
       "<Figure size 640x480 with 1 Axes>"
      ]
     },
     "metadata": {},
     "output_type": "display_data"
    }
   ],
   "source": [
    "# 막대그래프 호출\n",
    "bar_chart_with_frequencies(height_li, 'Height Distribution Bar-Chart', \n",
    "                           'height_data', 'cnt')"
   ]
  },
  {
   "cell_type": "markdown",
   "id": "4e7d3ee4",
   "metadata": {},
   "source": [
    "### 👉 번외 : 이미지 NxN 사이즈로 조정하기"
   ]
  },
  {
   "cell_type": "code",
   "execution_count": 22,
   "id": "d731921d",
   "metadata": {},
   "outputs": [
    {
     "data": {
      "application/vnd.jupyter.widget-view+json": {
       "model_id": "a9d18a6928b3446b8bc4ecd4e69a2fdb",
       "version_major": 2,
       "version_minor": 0
      },
      "text/plain": [
       "  0%|          | 0/1632 [00:00<?, ?it/s]"
      ]
     },
     "metadata": {},
     "output_type": "display_data"
    }
   ],
   "source": [
    "new_dir = \"./img_448_size\"\n",
    "if not os.path.isdir(new_dir):\n",
    "    os.mkdir(new_dir)\n",
    "\n",
    "for fn in tqdm_notebook(os.listdir('./Img_Selection/')):\n",
    "    if fn in not_read_fn_li:\n",
    "        continue\n",
    "    \n",
    "    img = cv2.imread(f\"./Img_Selection/{fn}\")\n",
    "    resize_img = cv2.resize(img, dsize=(448, 448), interpolation=cv2.INTER_NEAREST)\n",
    "\n",
    "    cv2.imwrite(f\"{new_dir}/{fn}\", resize_img)"
   ]
  }
 ],
 "metadata": {
  "kernelspec": {
   "display_name": "Python 3 (ipykernel)",
   "language": "python",
   "name": "python3"
  },
  "language_info": {
   "codemirror_mode": {
    "name": "ipython",
    "version": 3
   },
   "file_extension": ".py",
   "mimetype": "text/x-python",
   "name": "python",
   "nbconvert_exporter": "python",
   "pygments_lexer": "ipython3",
   "version": "3.9.12"
  }
 },
 "nbformat": 4,
 "nbformat_minor": 5
}
